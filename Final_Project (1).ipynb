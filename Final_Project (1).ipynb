{
  "nbformat": 4,
  "nbformat_minor": 0,
  "metadata": {
    "colab": {
      "provenance": []
    },
    "kernelspec": {
      "name": "python3",
      "display_name": "Python 3"
    },
    "language_info": {
      "name": "python"
    }
  },
  "cells": [
    {
      "cell_type": "code",
      "execution_count": 1,
      "metadata": {
        "id": "C8SCNTMLHNyB"
      },
      "outputs": [],
      "source": [
        "import pandas as pd\n",
        "from sklearn.model_selection import train_test_split\n",
        "from sklearn.preprocessing import StandardScaler, LabelEncoder"
      ]
    },
    {
      "cell_type": "code",
      "source": [
        "data=pd.read_csv(\"Final.csv\")"
      ],
      "metadata": {
        "id": "TWSEjJi3HSd6"
      },
      "execution_count": 2,
      "outputs": []
    },
    {
      "cell_type": "markdown",
      "source": [
        "Data Preprocessing"
      ],
      "metadata": {
        "id": "yIllrQIJKurc"
      }
    },
    {
      "cell_type": "code",
      "source": [
        "# Step 1: Handle Missing Values\n",
        "# Dropping rows with any missing values for simplicity. Alternatively, you could use imputation if needed.\n",
        "data = data.dropna()"
      ],
      "metadata": {
        "id": "JwNf6M7nHclu"
      },
      "execution_count": 3,
      "outputs": []
    },
    {
      "cell_type": "code",
      "source": [
        "# Step 2: Encode Categorical Variables\n",
        "# Assuming 'diagnosis' is the target column, encoding it as 0 and 1\n",
        "label_encoder = LabelEncoder()\n",
        "data['diagnosis'] = label_encoder.fit_transform(data['diagnosis'])"
      ],
      "metadata": {
        "id": "T5MbFbHNJk53"
      },
      "execution_count": 4,
      "outputs": []
    },
    {
      "cell_type": "code",
      "source": [
        "# Step 3: Separate Features and Target\n",
        "X = data.drop(columns=['diagnosis'])\n",
        "y = data['diagnosis']\n"
      ],
      "metadata": {
        "id": "TB66jt3oJnaZ"
      },
      "execution_count": 5,
      "outputs": []
    },
    {
      "cell_type": "code",
      "source": [
        "# Step 4: Normalize Features\n",
        "# Using StandardScaler to normalize features for better ANN/DNN performance\n",
        "scaler = StandardScaler()\n",
        "X_scaled = scaler.fit_transform(X)\n"
      ],
      "metadata": {
        "id": "i8s6WXLVJpkA"
      },
      "execution_count": 6,
      "outputs": []
    },
    {
      "cell_type": "code",
      "source": [
        "# Step 5: Split the Dataset into Training and Testing Sets\n",
        "X_train, X_test, y_train, y_test = train_test_split(X_scaled, y, test_size=0.2, random_state=42)"
      ],
      "metadata": {
        "id": "vKUpSweuJruw"
      },
      "execution_count": 7,
      "outputs": []
    },
    {
      "cell_type": "code",
      "source": [
        "\n",
        "# Final check of preprocessed data shapes\n",
        "X_train.shape, X_test.shape, y_train.shape, y_test.shape"
      ],
      "metadata": {
        "colab": {
          "base_uri": "https://localhost:8080/"
        },
        "id": "PFku3mTCJu1U",
        "outputId": "9bc7d3b9-140a-4c4c-cf87-59ca17b1322e"
      },
      "execution_count": 8,
      "outputs": [
        {
          "output_type": "execute_result",
          "data": {
            "text/plain": [
              "((406, 35), (102, 35), (406,), (102,))"
            ]
          },
          "metadata": {},
          "execution_count": 8
        }
      ]
    },
    {
      "cell_type": "markdown",
      "source": [
        "ANN"
      ],
      "metadata": {
        "id": "YODxFOEsKrfi"
      }
    },
    {
      "cell_type": "code",
      "source": [
        "import tensorflow as tf\n",
        "from tensorflow.keras.models import Sequential\n",
        "from tensorflow.keras.layers import Dense, Dropout\n",
        "from tensorflow.keras.callbacks import EarlyStopping\n",
        "from sklearn.metrics import classification_report, confusion_matrix"
      ],
      "metadata": {
        "id": "PnwJGFurJw7U"
      },
      "execution_count": 9,
      "outputs": []
    },
    {
      "cell_type": "code",
      "source": [
        "# Step 1: Model Building\n",
        "model = Sequential()\n",
        "model.add(Dense(64, input_dim=X_train.shape[1], activation='relu'))\n",
        "model.add(Dropout(0.5))  # Optional: Dropout layer for regularization\n",
        "model.add(Dense(32, activation='relu'))\n",
        "model.add(Dense(1, activation='sigmoid'))  # Output layer for binary classification"
      ],
      "metadata": {
        "colab": {
          "base_uri": "https://localhost:8080/"
        },
        "id": "c95ijP1FLge9",
        "outputId": "6906d52e-2cb6-402a-d73d-742beddcaeed"
      },
      "execution_count": 10,
      "outputs": [
        {
          "output_type": "stream",
          "name": "stderr",
          "text": [
            "/usr/local/lib/python3.10/dist-packages/keras/src/layers/core/dense.py:87: UserWarning: Do not pass an `input_shape`/`input_dim` argument to a layer. When using Sequential models, prefer using an `Input(shape)` object as the first layer in the model instead.\n",
            "  super().__init__(activity_regularizer=activity_regularizer, **kwargs)\n"
          ]
        }
      ]
    },
    {
      "cell_type": "code",
      "source": [
        "# Step 2: Model Compilation\n",
        "model.compile(loss='binary_crossentropy', optimizer='adam', metrics=['accuracy'])"
      ],
      "metadata": {
        "id": "PeCsdfRcLlIk"
      },
      "execution_count": 11,
      "outputs": []
    },
    {
      "cell_type": "code",
      "source": [
        "# Step 3: Model Training\n",
        "early_stopping = EarlyStopping(monitor='val_loss', patience=5, restore_best_weights=True)\n",
        "history = model.fit(X_train, y_train, epochs=50, batch_size=16, validation_split=0.2, callbacks=[early_stopping])\n"
      ],
      "metadata": {
        "colab": {
          "base_uri": "https://localhost:8080/"
        },
        "id": "AfM4h5SALoSB",
        "outputId": "5ca8a293-bae9-4164-a0c8-5151ac12b266"
      },
      "execution_count": 12,
      "outputs": [
        {
          "output_type": "stream",
          "name": "stdout",
          "text": [
            "Epoch 1/50\n",
            "\u001b[1m21/21\u001b[0m \u001b[32m━━━━━━━━━━━━━━━━━━━━\u001b[0m\u001b[37m\u001b[0m \u001b[1m2s\u001b[0m 11ms/step - accuracy: 0.7152 - loss: 0.6229 - val_accuracy: 0.8902 - val_loss: 0.3798\n",
            "Epoch 2/50\n",
            "\u001b[1m21/21\u001b[0m \u001b[32m━━━━━━━━━━━━━━━━━━━━\u001b[0m\u001b[37m\u001b[0m \u001b[1m0s\u001b[0m 4ms/step - accuracy: 0.9403 - loss: 0.3217 - val_accuracy: 0.9390 - val_loss: 0.2326\n",
            "Epoch 3/50\n",
            "\u001b[1m21/21\u001b[0m \u001b[32m━━━━━━━━━━━━━━━━━━━━\u001b[0m\u001b[37m\u001b[0m \u001b[1m0s\u001b[0m 4ms/step - accuracy: 0.9363 - loss: 0.2248 - val_accuracy: 0.9390 - val_loss: 0.1772\n",
            "Epoch 4/50\n",
            "\u001b[1m21/21\u001b[0m \u001b[32m━━━━━━━━━━━━━━━━━━━━\u001b[0m\u001b[37m\u001b[0m \u001b[1m0s\u001b[0m 3ms/step - accuracy: 0.9654 - loss: 0.1641 - val_accuracy: 0.9390 - val_loss: 0.1502\n",
            "Epoch 5/50\n",
            "\u001b[1m21/21\u001b[0m \u001b[32m━━━━━━━━━━━━━━━━━━━━\u001b[0m\u001b[37m\u001b[0m \u001b[1m0s\u001b[0m 4ms/step - accuracy: 0.9624 - loss: 0.1468 - val_accuracy: 0.9512 - val_loss: 0.1333\n",
            "Epoch 6/50\n",
            "\u001b[1m21/21\u001b[0m \u001b[32m━━━━━━━━━━━━━━━━━━━━\u001b[0m\u001b[37m\u001b[0m \u001b[1m0s\u001b[0m 4ms/step - accuracy: 0.9729 - loss: 0.0946 - val_accuracy: 0.9512 - val_loss: 0.1253\n",
            "Epoch 7/50\n",
            "\u001b[1m21/21\u001b[0m \u001b[32m━━━━━━━━━━━━━━━━━━━━\u001b[0m\u001b[37m\u001b[0m \u001b[1m0s\u001b[0m 3ms/step - accuracy: 0.9861 - loss: 0.0805 - val_accuracy: 0.9512 - val_loss: 0.1288\n",
            "Epoch 8/50\n",
            "\u001b[1m21/21\u001b[0m \u001b[32m━━━━━━━━━━━━━━━━━━━━\u001b[0m\u001b[37m\u001b[0m \u001b[1m0s\u001b[0m 4ms/step - accuracy: 0.9886 - loss: 0.0566 - val_accuracy: 0.9634 - val_loss: 0.1322\n",
            "Epoch 9/50\n",
            "\u001b[1m21/21\u001b[0m \u001b[32m━━━━━━━━━━━━━━━━━━━━\u001b[0m\u001b[37m\u001b[0m \u001b[1m0s\u001b[0m 3ms/step - accuracy: 0.9762 - loss: 0.0622 - val_accuracy: 0.9634 - val_loss: 0.1319\n",
            "Epoch 10/50\n",
            "\u001b[1m21/21\u001b[0m \u001b[32m━━━━━━━━━━━━━━━━━━━━\u001b[0m\u001b[37m\u001b[0m \u001b[1m0s\u001b[0m 3ms/step - accuracy: 0.9721 - loss: 0.0645 - val_accuracy: 0.9634 - val_loss: 0.1309\n",
            "Epoch 11/50\n",
            "\u001b[1m21/21\u001b[0m \u001b[32m━━━━━━━━━━━━━━━━━━━━\u001b[0m\u001b[37m\u001b[0m \u001b[1m0s\u001b[0m 3ms/step - accuracy: 0.9718 - loss: 0.0546 - val_accuracy: 0.9634 - val_loss: 0.1271\n"
          ]
        }
      ]
    },
    {
      "cell_type": "code",
      "source": [
        "# Step 4: Model Evaluation\n",
        "y_pred = (model.predict(X_test) > 0.5).astype(\"int32\")  # Predict and convert to binary format\n",
        "print(classification_report(y_test, y_pred))\n",
        "print(confusion_matrix(y_test, y_pred))"
      ],
      "metadata": {
        "colab": {
          "base_uri": "https://localhost:8080/"
        },
        "id": "lzLcXTx4Lras",
        "outputId": "6931d999-00e6-4176-d594-3424072d1363"
      },
      "execution_count": 13,
      "outputs": [
        {
          "output_type": "stream",
          "name": "stdout",
          "text": [
            "\u001b[1m4/4\u001b[0m \u001b[32m━━━━━━━━━━━━━━━━━━━━\u001b[0m\u001b[37m\u001b[0m \u001b[1m0s\u001b[0m 18ms/step\n",
            "              precision    recall  f1-score   support\n",
            "\n",
            "           0       0.98      0.97      0.98        63\n",
            "           1       0.95      0.97      0.96        39\n",
            "\n",
            "    accuracy                           0.97       102\n",
            "   macro avg       0.97      0.97      0.97       102\n",
            "weighted avg       0.97      0.97      0.97       102\n",
            "\n",
            "[[61  2]\n",
            " [ 1 38]]\n"
          ]
        }
      ]
    },
    {
      "cell_type": "code",
      "source": [
        "import matplotlib.pyplot as plt\n",
        "\n",
        "# Plot training & validation accuracy and loss\n",
        "plt.figure(figsize=(12, 5))\n",
        "plt.subplot(1, 2, 1)\n",
        "plt.plot(history.history['accuracy'], label='Training Accuracy')\n",
        "plt.plot(history.history['val_accuracy'], label='Validation Accuracy')\n",
        "plt.legend()\n",
        "plt.title('Accuracy')\n",
        "\n",
        "plt.subplot(1, 2, 2)\n",
        "plt.plot(history.history['loss'], label='Training Loss')\n",
        "plt.plot(history.history['val_loss'], label='Validation Loss')\n",
        "plt.legend()\n",
        "plt.title('Loss')\n",
        "plt.show()\n"
      ],
      "metadata": {
        "colab": {
          "base_uri": "https://localhost:8080/",
          "height": 468
        },
        "id": "w41MBqFsLv3K",
        "outputId": "19921862-30f7-4f96-e676-a7082db82038"
      },
      "execution_count": 14,
      "outputs": [
        {
          "output_type": "display_data",
          "data": {
            "text/plain": [
              "<Figure size 1200x500 with 2 Axes>"
            ],
            "image/png": "[encoded data removed]"
          },
          "metadata": {}
        }
      ]
    },
    {
      "cell_type": "markdown",
      "source": [
        "GNN"
      ],
      "metadata": {
        "id": "gdgRzuYOMVgd"
      }
    },
    {
      "cell_type": "code",
      "source": [
        "import pandas as pd\n",
        "import numpy as np\n",
        "from sklearn.neighbors import NearestNeighbors\n",
        "\n",
        "# Load the CSV file\n",
        "file_path = 'Final.csv'  # Replace with the actual file path\n",
        "data = pd.read_csv(file_path)\n",
        "\n",
        "# Prepare node features (excluding non-feature columns)\n",
        "node_features = data.drop(columns=['Unnamed: 0', 'id', 'diagnosis']).values  # Adjust columns as necessary\n",
        "\n",
        "# Set up K-Nearest Neighbors\n",
        "k_neighbors = 5  # Number of neighbors\n",
        "nbrs = NearestNeighbors(n_neighbors=k_neighbors, algorithm='ball_tree').fit(node_features)\n",
        "distances, indices = nbrs.kneighbors(node_features)\n",
        "\n",
        "# Create edges with weights\n",
        "edges_with_weights = []\n",
        "for i, neighbors in enumerate(indices):\n",
        "    for j, neighbor in enumerate(neighbors[1:], start=1):  # Skip the first neighbor (itself)\n",
        "        source = i\n",
        "        destination = neighbor\n",
        "        weight = distances[i][j]  # Distance as weight\n",
        "        edges_with_weights.append((source, destination, weight))\n",
        "\n",
        "# Save to a single CSV file\n",
        "edges_df = pd.DataFrame(edges_with_weights, columns=[\"source\", \"destination\", \"weight\"])\n",
        "edges_df.to_csv('graph_edges.csv', index=False)\n",
        "\n",
        "print(\"Graph edges with weights saved as graph_edges.csv\")\n"
      ],
      "metadata": {
        "colab": {
          "base_uri": "https://localhost:8080/"
        },
        "id": "QxYroE7Gv5iQ",
        "outputId": "2ff9ff4b-4dcd-4a31-c08d-90bedbec35ae"
      },
      "execution_count": 23,
      "outputs": [
        {
          "output_type": "stream",
          "name": "stdout",
          "text": [
            "Graph edges with weights saved as graph_edges.csv\n"
          ]
        }
      ]
    },
    {
      "cell_type": "code",
      "source": [
        "!pip install torch-geometric\n"
      ],
      "metadata": {
        "id": "UU5QVk2_Mk0M",
        "colab": {
          "base_uri": "https://localhost:8080/"
        },
        "outputId": "406607c8-bd23-459a-a1c0-e7530e62ad25"
      },
      "execution_count": 26,
      "outputs": [
        {
          "output_type": "stream",
          "name": "stdout",
          "text": [
            "Requirement already satisfied: torch-geometric in /usr/local/lib/python3.10/dist-packages (2.6.1)\n",
            "Requirement already satisfied: aiohttp in /usr/local/lib/python3.10/dist-packages (from torch-geometric) (3.10.10)\n",
            "Requirement already satisfied: fsspec in /usr/local/lib/python3.10/dist-packages (from torch-geometric) (2024.10.0)\n",
            "Requirement already satisfied: jinja2 in /usr/local/lib/python3.10/dist-packages (from torch-geometric) (3.1.4)\n",
            "Requirement already satisfied: numpy in /usr/local/lib/python3.10/dist-packages (from torch-geometric) (1.26.4)\n",
            "Requirement already satisfied: psutil>=5.8.0 in /usr/local/lib/python3.10/dist-packages (from torch-geometric) (5.9.5)\n",
            "Requirement already satisfied: pyparsing in /usr/local/lib/python3.10/dist-packages (from torch-geometric) (3.2.0)\n",
            "Requirement already satisfied: requests in /usr/local/lib/python3.10/dist-packages (from torch-geometric) (2.32.3)\n",
            "Requirement already satisfied: tqdm in /usr/local/lib/python3.10/dist-packages (from torch-geometric) (4.66.6)\n",
            "Requirement already satisfied: aiohappyeyeballs>=2.3.0 in /usr/local/lib/python3.10/dist-packages (from aiohttp->torch-geometric) (2.4.3)\n",
            "Requirement already satisfied: aiosignal>=1.1.2 in /usr/local/lib/python3.10/dist-packages (from aiohttp->torch-geometric) (1.3.1)\n",
            "Requirement already satisfied: attrs>=17.3.0 in /usr/local/lib/python3.10/dist-packages (from aiohttp->torch-geometric) (24.2.0)\n",
            "Requirement already satisfied: frozenlist>=1.1.1 in /usr/local/lib/python3.10/dist-packages (from aiohttp->torch-geometric) (1.5.0)\n",
            "Requirement already satisfied: multidict<7.0,>=4.5 in /usr/local/lib/python3.10/dist-packages (from aiohttp->torch-geometric) (6.1.0)\n",
            "Requirement already satisfied: yarl<2.0,>=1.12.0 in /usr/local/lib/python3.10/dist-packages (from aiohttp->torch-geometric) (1.17.0)\n",
            "Requirement already satisfied: async-timeout<5.0,>=4.0 in /usr/local/lib/python3.10/dist-packages (from aiohttp->torch-geometric) (4.0.3)\n",
            "Requirement already satisfied: MarkupSafe>=2.0 in /usr/local/lib/python3.10/dist-packages (from jinja2->torch-geometric) (3.0.2)\n",
            "Requirement already satisfied: charset-normalizer<4,>=2 in /usr/local/lib/python3.10/dist-packages (from requests->torch-geometric) (3.4.0)\n",
            "Requirement already satisfied: idna<4,>=2.5 in /usr/local/lib/python3.10/dist-packages (from requests->torch-geometric) (3.10)\n",
            "Requirement already satisfied: urllib3<3,>=1.21.1 in /usr/local/lib/python3.10/dist-packages (from requests->torch-geometric) (2.2.3)\n",
            "Requirement already satisfied: certifi>=2017.4.17 in /usr/local/lib/python3.10/dist-packages (from requests->torch-geometric) (2024.8.30)\n",
            "Requirement already satisfied: typing-extensions>=4.1.0 in /usr/local/lib/python3.10/dist-packages (from multidict<7.0,>=4.5->aiohttp->torch-geometric) (4.12.2)\n",
            "Requirement already satisfied: propcache>=0.2.0 in /usr/local/lib/python3.10/dist-packages (from yarl<2.0,>=1.12.0->aiohttp->torch-geometric) (0.2.0)\n"
          ]
        }
      ]
    },
    {
      "cell_type": "code",
      "source": [
        "import pandas as pd\n",
        "import torch\n",
        "from torch_geometric.data import Data\n",
        "from torch_geometric.nn import GCNConv\n",
        "from sklearn.preprocessing import LabelEncoder\n",
        "from sklearn.model_selection import train_test_split\n",
        "\n",
        "# Load node features and labels from Final.csv\n",
        "node_data = pd.read_csv('Final.csv')\n",
        "node_features = node_data.drop(columns=['Unnamed: 0', 'id', 'diagnosis']).values\n",
        "label_encoder = LabelEncoder()\n",
        "node_labels = label_encoder.fit_transform(node_data['diagnosis'])\n",
        "\n",
        "# Load edges from graph_edges.csv\n",
        "edge_data = pd.read_csv('graph_edges.csv')\n",
        "edge_index = torch.tensor(edge_data[['source', 'destination']].values.T, dtype=torch.long)\n",
        "edge_weight = torch.tensor(edge_data['weight'].values, dtype=torch.float)\n",
        "\n",
        "# Convert features and labels to tensors\n",
        "x = torch.tensor(node_features, dtype=torch.float)\n",
        "y = torch.tensor(node_labels, dtype=torch.long)\n",
        "\n",
        "# Create a PyTorch Geometric data object\n",
        "data = Data(x=x, edge_index=edge_index, edge_attr=edge_weight, y=y)\n",
        "\n",
        "# Split data into train and test sets\n",
        "train_mask, test_mask = train_test_split(range(len(y)), test_size=0.2, stratify=y)\n",
        "train_mask = torch.tensor(train_mask, dtype=torch.long)\n",
        "test_mask = torch.tensor(test_mask, dtype=torch.long)\n"
      ],
      "metadata": {
        "id": "VklIiu9Tv8T6"
      },
      "execution_count": 27,
      "outputs": []
    },
    {
      "cell_type": "code",
      "source": [
        "import torch.nn.functional as F\n",
        "from torch_geometric.nn import GCNConv\n",
        "\n",
        "class GCN(torch.nn.Module):\n",
        "    def __init__(self, num_features, num_classes):\n",
        "        super(GCN, self).__init__()\n",
        "        self.conv1 = GCNConv(num_features, 16)\n",
        "        self.conv2 = GCNConv(16, num_classes)\n",
        "\n",
        "    def forward(self, data):\n",
        "        x, edge_index = data.x, data.edge_index\n",
        "        x = self.conv1(x, edge_index)\n",
        "        x = F.relu(x)\n",
        "        x = self.conv2(x, edge_index)\n",
        "        return F.log_softmax(x, dim=1)\n",
        "\n",
        "# Instantiate the model\n",
        "model = GCN(num_features=x.size(1), num_classes=len(set(y.numpy())))\n",
        "optimizer = torch.optim.Adam(model.parameters(), lr=0.01, weight_decay=5e-4)\n"
      ],
      "metadata": {
        "id": "GUr_jo6yJ2Zm"
      },
      "execution_count": 28,
      "outputs": []
    },
    {
      "cell_type": "code",
      "source": [
        "def train():\n",
        "    model.train()\n",
        "    optimizer.zero_grad()\n",
        "    out = model(data)\n",
        "    loss = F.nll_loss(out[train_mask], y[train_mask])\n",
        "    loss.backward()\n",
        "    optimizer.step()\n",
        "    return loss\n",
        "\n",
        "def test():\n",
        "    model.eval()\n",
        "    with torch.no_grad():\n",
        "        logits = model(data)\n",
        "        pred = logits[test_mask].max(1)[1]\n",
        "        acc = pred.eq(y[test_mask]).sum().item() / test_mask.size(0)\n",
        "    return acc\n",
        "\n",
        "# Training loop\n",
        "for epoch in range(1, 201):\n",
        "    loss = train()\n",
        "    if epoch % 10 == 0:\n",
        "        acc = test()\n",
        "        print(f'Epoch {epoch:03d}, Loss: {loss:.4f}, Test Accuracy: {acc:.4f}')\n"
      ],
      "metadata": {
        "colab": {
          "base_uri": "https://localhost:8080/"
        },
        "id": "SmuY13ljJ5Uc",
        "outputId": "d0ef1ef0-196f-4a18-bdde-b9a4cc022349"
      },
      "execution_count": 29,
      "outputs": [
        {
          "output_type": "stream",
          "name": "stdout",
          "text": [
            "Epoch 010, Loss: 101.2748, Test Accuracy: 0.3725\n",
            "Epoch 020, Loss: 50.2521, Test Accuracy: 0.6765\n",
            "Epoch 030, Loss: 24.9445, Test Accuracy: 0.6961\n",
            "Epoch 040, Loss: 8.6529, Test Accuracy: 0.7647\n",
            "Epoch 050, Loss: 4.4529, Test Accuracy: 0.8235\n",
            "Epoch 060, Loss: 1.1651, Test Accuracy: 0.8725\n",
            "Epoch 070, Loss: 1.5203, Test Accuracy: 0.8627\n",
            "Epoch 080, Loss: 1.1667, Test Accuracy: 0.8824\n",
            "Epoch 090, Loss: 1.0622, Test Accuracy: 0.8824\n",
            "Epoch 100, Loss: 1.0327, Test Accuracy: 0.8725\n",
            "Epoch 110, Loss: 1.0186, Test Accuracy: 0.8725\n",
            "Epoch 120, Loss: 0.9978, Test Accuracy: 0.8725\n",
            "Epoch 130, Loss: 0.9785, Test Accuracy: 0.8725\n",
            "Epoch 140, Loss: 0.9590, Test Accuracy: 0.8725\n",
            "Epoch 150, Loss: 0.9391, Test Accuracy: 0.8725\n",
            "Epoch 160, Loss: 0.9186, Test Accuracy: 0.8725\n",
            "Epoch 170, Loss: 0.8974, Test Accuracy: 0.8725\n",
            "Epoch 180, Loss: 0.8755, Test Accuracy: 0.8725\n",
            "Epoch 190, Loss: 0.8536, Test Accuracy: 0.8725\n",
            "Epoch 200, Loss: 0.8317, Test Accuracy: 0.8725\n"
          ]
        }
      ]
    },
    {
      "cell_type": "code",
      "source": [
        "from sklearn.metrics import classification_report, confusion_matrix\n",
        "\n",
        "def test():\n",
        "    model.eval()\n",
        "    with torch.no_grad():\n",
        "        logits = model(data)\n",
        "        pred = logits[test_mask].max(1)[1]\n",
        "        acc = pred.eq(y[test_mask]).sum().item() / test_mask.size(0)\n",
        "\n",
        "        # Convert to numpy arrays for sklearn metrics\n",
        "        y_true = y[test_mask].cpu().numpy()  # True labels\n",
        "        y_pred = pred.cpu().numpy()  # Predicted labels\n",
        "\n",
        "        # Calculate classification report and confusion matrix\n",
        "        print(\"Classification Report:\")\n",
        "        print(classification_report(y_true, y_pred))\n",
        "        print(\"Confusion Matrix:\")\n",
        "        print(confusion_matrix(y_true, y_pred))\n",
        "\n",
        "    return acc\n"
      ],
      "metadata": {
        "id": "MXXQfV9NJ-CN"
      },
      "execution_count": 30,
      "outputs": []
    },
    {
      "cell_type": "code",
      "source": [
        "for epoch in range(1, 101):\n",
        "    loss = train()\n",
        "    if epoch % 10 == 0:\n",
        "        acc = test()  # This will print accuracy, precision, recall, F1-score, and confusion matrix\n",
        "        print(f'Epoch {epoch:03d}, Loss: {loss:.4f}, Test Accuracy: {acc:.4f}')\n"
      ],
      "metadata": {
        "colab": {
          "base_uri": "https://localhost:8080/"
        },
        "id": "QiwptVsMLZhW",
        "outputId": "bf391aa3-1b35-43ca-ce8b-4dc50639e320"
      },
      "execution_count": 43,
      "outputs": [
        {
          "output_type": "stream",
          "name": "stdout",
          "text": [
            "Classification Report:\n",
            "              precision    recall  f1-score   support\n",
            "\n",
            "           0       0.84      0.97      0.90        64\n",
            "           1       0.93      0.68      0.79        38\n",
            "\n",
            "    accuracy                           0.86       102\n",
            "   macro avg       0.88      0.83      0.84       102\n",
            "weighted avg       0.87      0.86      0.86       102\n",
            "\n",
            "Confusion Matrix:\n",
            "[[62  2]\n",
            " [12 26]]\n",
            "Epoch 010, Loss: 2.3024, Test Accuracy: 0.8627\n",
            "Classification Report:\n",
            "              precision    recall  f1-score   support\n",
            "\n",
            "           0       0.83      1.00      0.91        64\n",
            "           1       1.00      0.66      0.79        38\n",
            "\n",
            "    accuracy                           0.87       102\n",
            "   macro avg       0.92      0.83      0.85       102\n",
            "weighted avg       0.89      0.87      0.87       102\n",
            "\n",
            "Confusion Matrix:\n",
            "[[64  0]\n",
            " [13 25]]\n",
            "Epoch 020, Loss: 1.1522, Test Accuracy: 0.8725\n",
            "Classification Report:\n",
            "              precision    recall  f1-score   support\n",
            "\n",
            "           0       0.85      1.00      0.92        64\n",
            "           1       1.00      0.71      0.83        38\n",
            "\n",
            "    accuracy                           0.89       102\n",
            "   macro avg       0.93      0.86      0.88       102\n",
            "weighted avg       0.91      0.89      0.89       102\n",
            "\n",
            "Confusion Matrix:\n",
            "[[64  0]\n",
            " [11 27]]\n",
            "Epoch 030, Loss: 0.7450, Test Accuracy: 0.8922\n",
            "Classification Report:\n",
            "              precision    recall  f1-score   support\n",
            "\n",
            "           0       0.88      1.00      0.93        64\n",
            "           1       1.00      0.76      0.87        38\n",
            "\n",
            "    accuracy                           0.91       102\n",
            "   macro avg       0.94      0.88      0.90       102\n",
            "weighted avg       0.92      0.91      0.91       102\n",
            "\n",
            "Confusion Matrix:\n",
            "[[64  0]\n",
            " [ 9 29]]\n",
            "Epoch 040, Loss: 0.6412, Test Accuracy: 0.9118\n",
            "Classification Report:\n",
            "              precision    recall  f1-score   support\n",
            "\n",
            "           0       0.87      0.97      0.92        64\n",
            "           1       0.94      0.76      0.84        38\n",
            "\n",
            "    accuracy                           0.89       102\n",
            "   macro avg       0.90      0.87      0.88       102\n",
            "weighted avg       0.90      0.89      0.89       102\n",
            "\n",
            "Confusion Matrix:\n",
            "[[62  2]\n",
            " [ 9 29]]\n",
            "Epoch 050, Loss: 0.6232, Test Accuracy: 0.8922\n",
            "Classification Report:\n",
            "              precision    recall  f1-score   support\n",
            "\n",
            "           0       0.87      0.97      0.92        64\n",
            "           1       0.94      0.76      0.84        38\n",
            "\n",
            "    accuracy                           0.89       102\n",
            "   macro avg       0.90      0.87      0.88       102\n",
            "weighted avg       0.90      0.89      0.89       102\n",
            "\n",
            "Confusion Matrix:\n",
            "[[62  2]\n",
            " [ 9 29]]\n",
            "Epoch 060, Loss: 0.5869, Test Accuracy: 0.8922\n",
            "Classification Report:\n",
            "              precision    recall  f1-score   support\n",
            "\n",
            "           0       0.87      0.95      0.91        64\n",
            "           1       0.91      0.76      0.83        38\n",
            "\n",
            "    accuracy                           0.88       102\n",
            "   macro avg       0.89      0.86      0.87       102\n",
            "weighted avg       0.88      0.88      0.88       102\n",
            "\n",
            "Confusion Matrix:\n",
            "[[61  3]\n",
            " [ 9 29]]\n",
            "Epoch 070, Loss: 0.5634, Test Accuracy: 0.8824\n",
            "Classification Report:\n",
            "              precision    recall  f1-score   support\n",
            "\n",
            "           0       0.88      0.95      0.92        64\n",
            "           1       0.91      0.79      0.85        38\n",
            "\n",
            "    accuracy                           0.89       102\n",
            "   macro avg       0.90      0.87      0.88       102\n",
            "weighted avg       0.89      0.89      0.89       102\n",
            "\n",
            "Confusion Matrix:\n",
            "[[61  3]\n",
            " [ 8 30]]\n",
            "Epoch 080, Loss: 0.5373, Test Accuracy: 0.8922\n",
            "Classification Report:\n",
            "              precision    recall  f1-score   support\n",
            "\n",
            "           0       0.88      0.95      0.92        64\n",
            "           1       0.91      0.79      0.85        38\n",
            "\n",
            "    accuracy                           0.89       102\n",
            "   macro avg       0.90      0.87      0.88       102\n",
            "weighted avg       0.89      0.89      0.89       102\n",
            "\n",
            "Confusion Matrix:\n",
            "[[61  3]\n",
            " [ 8 30]]\n",
            "Epoch 090, Loss: 0.5125, Test Accuracy: 0.8922\n",
            "Classification Report:\n",
            "              precision    recall  f1-score   support\n",
            "\n",
            "           0       0.88      0.95      0.92        64\n",
            "           1       0.91      0.79      0.85        38\n",
            "\n",
            "    accuracy                           0.89       102\n",
            "   macro avg       0.90      0.87      0.88       102\n",
            "weighted avg       0.89      0.89      0.89       102\n",
            "\n",
            "Confusion Matrix:\n",
            "[[61  3]\n",
            " [ 8 30]]\n",
            "Epoch 100, Loss: 0.4897, Test Accuracy: 0.8922\n"
          ]
        }
      ]
    },
    {
      "cell_type": "code",
      "source": [
        "from sklearn.metrics import classification_report, confusion_matrix\n",
        "\n",
        "def test():\n",
        "    model.eval()\n",
        "    with torch.no_grad():\n",
        "        logits = model(data)\n",
        "        pred = logits[test_mask].max(1)[1]\n",
        "        acc = pred.eq(y[test_mask]).sum().item() / test_mask.size(0)\n",
        "\n",
        "        # Convert to numpy arrays for sklearn metrics\n",
        "        y_true = y[test_mask].cpu().numpy()  # True labels\n",
        "        y_pred = pred.cpu().numpy()  # Predicted labels\n",
        "\n",
        "        # Classification Report and Confusion Matrix\n",
        "        print(\"Classification Report:\")\n",
        "        print(classification_report(y_true, y_pred))\n",
        "        print(\"Confusion Matrix:\")\n",
        "        print(confusion_matrix(y_true, y_pred))\n",
        "\n",
        "    return acc\n"
      ],
      "metadata": {
        "id": "gbBvDDePLi7Z"
      },
      "execution_count": 42,
      "outputs": []
    },
    {
      "cell_type": "code",
      "source": [
        "print(edge_index.max())  # Check the largest index in edge_index\n",
        "print(X_test.shape[0])   # Check the number of nodes (rows) in X_test\n"
      ],
      "metadata": {
        "colab": {
          "base_uri": "https://localhost:8080/"
        },
        "id": "wLm2h_rvL5cO",
        "outputId": "8112c3f0-8764-432c-aba5-dcbea38b1cd2"
      },
      "execution_count": 48,
      "outputs": [
        {
          "output_type": "stream",
          "name": "stdout",
          "text": [
            "tensor(507)\n",
            "102\n"
          ]
        }
      ]
    },
    {
      "cell_type": "code",
      "source": [
        "print(\"Max edge index:\", edge_index.max())  # Maximum index in the edge_index\n",
        "print(\"Number of nodes in X_test:\", X_test.shape[0])  # Number of nodes in the feature matrix\n"
      ],
      "metadata": {
        "colab": {
          "base_uri": "https://localhost:8080/"
        },
        "id": "Jo50naUpMlcO",
        "outputId": "02de0fe1-1d90-450c-a8a0-bd488bb19f52"
      },
      "execution_count": 49,
      "outputs": [
        {
          "output_type": "stream",
          "name": "stdout",
          "text": [
            "Max edge index: tensor(507)\n",
            "Number of nodes in X_test: 102\n"
          ]
        }
      ]
    },
    {
      "cell_type": "code",
      "source": [
        "edge_index = edge_index[:, edge_index[0] < X_test.shape[0]]  # Ensure edge_index refers to valid nodes\n"
      ],
      "metadata": {
        "id": "Tt8yyJkYTuZI"
      },
      "execution_count": 50,
      "outputs": []
    },
    {
      "cell_type": "code",
      "source": [],
      "metadata": {
        "id": "z9RwLkOUTwT1"
      },
      "execution_count": null,
      "outputs": []
    }
  ]
}